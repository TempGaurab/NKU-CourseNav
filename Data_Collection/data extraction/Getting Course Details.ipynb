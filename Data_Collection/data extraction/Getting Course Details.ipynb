{
 "cells": [
  {
   "cell_type": "code",
   "execution_count": 1,
   "id": "896b32ca",
   "metadata": {},
   "outputs": [],
   "source": [
    "import pandas as pd\n",
    "import numpy as np\n",
    "import requests as req\n",
    "from bs4 import BeautifulSoup\n",
    "import re"
   ]
  },
  {
   "cell_type": "code",
   "execution_count": 2,
   "id": "ecc99a1a",
   "metadata": {},
   "outputs": [],
   "source": [
    "def get_details(link):\n",
    "    haha = req.get(link)\n",
    "    html_content = haha.text\n",
    "    soup = BeautifulSoup(html_content, 'html.parser')\n",
    "    title_raw = soup.find('h1', id=\"course_preview_title\").text.strip()\n",
    "    \n",
    "    # Modified regex pattern to capture the entire title\n",
    "    match = re.match(r'(\\S+\\s\\d+)\\s+(.*?)(?:\\s*\\(\\d+\\s+credits\\))?$', title_raw)\n",
    "    if match:\n",
    "        course_code = match.group(1)  # e.g., \"MUS 109\"\n",
    "        course_title = match.group(2).strip()  # Title text\n",
    "    else:\n",
    "        course_code = \"\"\n",
    "        course_title = \"\"\n",
    "    \n",
    "    h1_element = soup.find('h1', id='course_preview_title')\n",
    "    hours_list = []\n",
    "    for sibling in h1_element.find_next_siblings():\n",
    "        if sibling.name == 'em':\n",
    "            hours_list.append(sibling.text.strip())\n",
    "        elif sibling.name == 'br':\n",
    "            break  # Stop when we hit a <br> tag\n",
    "    hours = ', '.join(hours_list)\n",
    "    #prereq\n",
    "    em_tags = soup.find_all('em')\n",
    "    prerequisites = []\n",
    "    other = []\n",
    "    coreq = []\n",
    "    other_coreq = []\n",
    "    for i, em in enumerate(em_tags):\n",
    "        if \"Prerequisite(s):\" in em.text:\n",
    "            # Start collecting <a> tags and subsequent text\n",
    "            for sibling in em.find_all_next():\n",
    "                if sibling.name == 'em' and sibling.text.strip() == \"Taught:\":\n",
    "                    break\n",
    "                elif sibling.name == 'a':\n",
    "                    prerequisites.append(sibling.text.strip())  # Add <a> text     \n",
    "                elif sibling.name == 'em':\n",
    "                    other.append(sibling.text.strip())  # Add <a> text \n",
    "        if \"Co-requisite(s):\" in em.text:\n",
    "             for sibling in em.find_all_next():\n",
    "                if sibling.name == 'em' and sibling.text.strip() == \"Taught:\":\n",
    "                    break\n",
    "                elif sibling.name == 'a':\n",
    "                    coreq.append(sibling.text.strip())  # Add <a> text     \n",
    "                elif sibling.name == 'em':\n",
    "                    other_coreq.append(sibling.text.strip())  # Add <a> tex\n",
    "\n",
    "    return course_code, course_title, hours, prerequisites,other,coreq,other_coreq"
   ]
  },
  {
   "cell_type": "code",
   "execution_count": 3,
   "id": "a2bf6210",
   "metadata": {},
   "outputs": [
    {
     "name": "stdout",
     "output_type": "stream",
     "text": [
      "('WLL 396', 'World Languages and Literatures Internship  (3 Credits)', 'Hours:, 3 classroom + 0 lab/studio', [], ['Written permission of supervising faculty member; declared major or minor in World Languages and Literatures; B or better in a 300-level course in target language; GPA of at least 2.75.'], [], [])\n"
     ]
    }
   ],
   "source": [
    "print(get_details(\"http://nku.catalog.acalog.com/preview_course_nopop.php?catoid=23&coid=61739\"))"
   ]
  },
  {
   "cell_type": "code",
   "execution_count": 4,
   "id": "e7bd7c62",
   "metadata": {},
   "outputs": [],
   "source": [
    "course_data = []\n",
    "with open('Data_Collection\\filtered_file.txt', 'r') as file:\n",
    "    urls = file.readlines()\n",
    "    for url in urls:\n",
    "        url = url.strip()\n",
    "        course_code,course_title,hours,prerequisites,other,coreq,other_coreq  = get_details(url)\n",
    "        course_data.append({\n",
    "            'Course_Code': course_code,\n",
    "            'Course_Title': course_title,\n",
    "            'Hours': hours,\n",
    "            'Prerequisites': prerequisites,  # Join prerequisites as a string\n",
    "            'Other_Pre-req':' '.join(other),\n",
    "            'Coreq': coreq,\n",
    "            'Other_Co-req': ','.join(other_coreq)\n",
    "        })"
   ]
  },
  {
   "cell_type": "code",
   "execution_count": 5,
   "id": "a611ee25",
   "metadata": {},
   "outputs": [],
   "source": [
    "course_df = pd.DataFrame(course_data)\n",
    "course_df.to_csv('course_details.csv', index=False)"
   ]
  },
  {
   "cell_type": "code",
   "execution_count": null,
   "id": "647868ed",
   "metadata": {},
   "outputs": [],
   "source": []
  }
 ],
 "metadata": {
  "kernelspec": {
   "display_name": "Python 3 (ipykernel)",
   "language": "python",
   "name": "python3"
  },
  "language_info": {
   "codemirror_mode": {
    "name": "ipython",
    "version": 3
   },
   "file_extension": ".py",
   "mimetype": "text/x-python",
   "name": "python",
   "nbconvert_exporter": "python",
   "pygments_lexer": "ipython3",
   "version": "3.11.4"
  }
 },
 "nbformat": 4,
 "nbformat_minor": 5
}

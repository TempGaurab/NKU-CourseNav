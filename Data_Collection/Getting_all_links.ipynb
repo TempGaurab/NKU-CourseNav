{
 "cells": [
  {
   "cell_type": "code",
   "execution_count": 1,
   "id": "49b44152",
   "metadata": {},
   "outputs": [],
   "source": [
    "import pandas as pd\n",
    "import numpy as np\n",
    "import requests as req\n",
    "from bs4 import BeautifulSoup"
   ]
  },
  {
   "cell_type": "code",
   "execution_count": 8,
   "id": "89b6e9fb",
   "metadata": {},
   "outputs": [],
   "source": [
    "from selenium import webdriver\n",
    "from selenium.webdriver.common.by import By\n",
    "from selenium.webdriver.chrome.service import Service\n",
    "from selenium.webdriver.chrome.options import Options\n",
    "import time"
   ]
  },
  {
   "cell_type": "code",
   "execution_count": 2,
   "id": "98e6d19f",
   "metadata": {},
   "outputs": [],
   "source": [
    "#http://nku.catalog.acalog.com/content.php?catoid=27&catoid=27&navoid=4059&filter%5Bitem_type%5D=3&filter%5Bonly_active%5D=1&filter%5B3%5D=1&filter%5Bcpage%5D=9#acalog_template_course_filter"
   ]
  },
  {
   "cell_type": "code",
   "execution_count": 3,
   "id": "190dcc5b",
   "metadata": {},
   "outputs": [],
   "source": [
    "base_url = \"http://nku.catalog.acalog.com/content.php?catoid=27&catoid=27&navoid=4059&filter%5Bitem_type%5D=3&filter%5Bonly_active%5D=1&filter%5B3%5D=1&filter%5Bcpage%5D=\"\n",
    "after_url = \"#acalog_template_course_filter\""
   ]
  },
  {
   "cell_type": "code",
   "execution_count": 4,
   "id": "e1506130",
   "metadata": {},
   "outputs": [
    {
     "data": {
      "text/plain": [
       "'http://nku.catalog.acalog.com/content.php?catoid=27&catoid=27&navoid=4059&filter%5Bitem_type%5D=3&filter%5Bonly_active%5D=1&filter%5B3%5D=1&filter%5Bcpage%5D=28#acalog_template_course_filter'"
      ]
     },
     "execution_count": 4,
     "metadata": {},
     "output_type": "execute_result"
    }
   ],
   "source": [
    "website = base_url + '28' + after_url\n",
    "website"
   ]
  },
  {
   "cell_type": "code",
   "execution_count": 5,
   "id": "4cafcb1b",
   "metadata": {},
   "outputs": [
    {
     "data": {
      "text/plain": [
       "['http://nku.catalog.acalog.com/content.php?catoid=27&catoid=27&navoid=4059&filter%5Bitem_type%5D=3&filter%5Bonly_active%5D=1&filter%5B3%5D=1&filter%5Bcpage%5D=1#acalog_template_course_filter',\n",
       " 'http://nku.catalog.acalog.com/content.php?catoid=27&catoid=27&navoid=4059&filter%5Bitem_type%5D=3&filter%5Bonly_active%5D=1&filter%5B3%5D=1&filter%5Bcpage%5D=2#acalog_template_course_filter',\n",
       " 'http://nku.catalog.acalog.com/content.php?catoid=27&catoid=27&navoid=4059&filter%5Bitem_type%5D=3&filter%5Bonly_active%5D=1&filter%5B3%5D=1&filter%5Bcpage%5D=3#acalog_template_course_filter',\n",
       " 'http://nku.catalog.acalog.com/content.php?catoid=27&catoid=27&navoid=4059&filter%5Bitem_type%5D=3&filter%5Bonly_active%5D=1&filter%5B3%5D=1&filter%5Bcpage%5D=4#acalog_template_course_filter',\n",
       " 'http://nku.catalog.acalog.com/content.php?catoid=27&catoid=27&navoid=4059&filter%5Bitem_type%5D=3&filter%5Bonly_active%5D=1&filter%5B3%5D=1&filter%5Bcpage%5D=5#acalog_template_course_filter',\n",
       " 'http://nku.catalog.acalog.com/content.php?catoid=27&catoid=27&navoid=4059&filter%5Bitem_type%5D=3&filter%5Bonly_active%5D=1&filter%5B3%5D=1&filter%5Bcpage%5D=6#acalog_template_course_filter',\n",
       " 'http://nku.catalog.acalog.com/content.php?catoid=27&catoid=27&navoid=4059&filter%5Bitem_type%5D=3&filter%5Bonly_active%5D=1&filter%5B3%5D=1&filter%5Bcpage%5D=7#acalog_template_course_filter',\n",
       " 'http://nku.catalog.acalog.com/content.php?catoid=27&catoid=27&navoid=4059&filter%5Bitem_type%5D=3&filter%5Bonly_active%5D=1&filter%5B3%5D=1&filter%5Bcpage%5D=8#acalog_template_course_filter',\n",
       " 'http://nku.catalog.acalog.com/content.php?catoid=27&catoid=27&navoid=4059&filter%5Bitem_type%5D=3&filter%5Bonly_active%5D=1&filter%5B3%5D=1&filter%5Bcpage%5D=9#acalog_template_course_filter',\n",
       " 'http://nku.catalog.acalog.com/content.php?catoid=27&catoid=27&navoid=4059&filter%5Bitem_type%5D=3&filter%5Bonly_active%5D=1&filter%5B3%5D=1&filter%5Bcpage%5D=10#acalog_template_course_filter',\n",
       " 'http://nku.catalog.acalog.com/content.php?catoid=27&catoid=27&navoid=4059&filter%5Bitem_type%5D=3&filter%5Bonly_active%5D=1&filter%5B3%5D=1&filter%5Bcpage%5D=11#acalog_template_course_filter',\n",
       " 'http://nku.catalog.acalog.com/content.php?catoid=27&catoid=27&navoid=4059&filter%5Bitem_type%5D=3&filter%5Bonly_active%5D=1&filter%5B3%5D=1&filter%5Bcpage%5D=12#acalog_template_course_filter',\n",
       " 'http://nku.catalog.acalog.com/content.php?catoid=27&catoid=27&navoid=4059&filter%5Bitem_type%5D=3&filter%5Bonly_active%5D=1&filter%5B3%5D=1&filter%5Bcpage%5D=13#acalog_template_course_filter',\n",
       " 'http://nku.catalog.acalog.com/content.php?catoid=27&catoid=27&navoid=4059&filter%5Bitem_type%5D=3&filter%5Bonly_active%5D=1&filter%5B3%5D=1&filter%5Bcpage%5D=14#acalog_template_course_filter',\n",
       " 'http://nku.catalog.acalog.com/content.php?catoid=27&catoid=27&navoid=4059&filter%5Bitem_type%5D=3&filter%5Bonly_active%5D=1&filter%5B3%5D=1&filter%5Bcpage%5D=15#acalog_template_course_filter',\n",
       " 'http://nku.catalog.acalog.com/content.php?catoid=27&catoid=27&navoid=4059&filter%5Bitem_type%5D=3&filter%5Bonly_active%5D=1&filter%5B3%5D=1&filter%5Bcpage%5D=16#acalog_template_course_filter',\n",
       " 'http://nku.catalog.acalog.com/content.php?catoid=27&catoid=27&navoid=4059&filter%5Bitem_type%5D=3&filter%5Bonly_active%5D=1&filter%5B3%5D=1&filter%5Bcpage%5D=17#acalog_template_course_filter',\n",
       " 'http://nku.catalog.acalog.com/content.php?catoid=27&catoid=27&navoid=4059&filter%5Bitem_type%5D=3&filter%5Bonly_active%5D=1&filter%5B3%5D=1&filter%5Bcpage%5D=18#acalog_template_course_filter',\n",
       " 'http://nku.catalog.acalog.com/content.php?catoid=27&catoid=27&navoid=4059&filter%5Bitem_type%5D=3&filter%5Bonly_active%5D=1&filter%5B3%5D=1&filter%5Bcpage%5D=19#acalog_template_course_filter',\n",
       " 'http://nku.catalog.acalog.com/content.php?catoid=27&catoid=27&navoid=4059&filter%5Bitem_type%5D=3&filter%5Bonly_active%5D=1&filter%5B3%5D=1&filter%5Bcpage%5D=20#acalog_template_course_filter',\n",
       " 'http://nku.catalog.acalog.com/content.php?catoid=27&catoid=27&navoid=4059&filter%5Bitem_type%5D=3&filter%5Bonly_active%5D=1&filter%5B3%5D=1&filter%5Bcpage%5D=21#acalog_template_course_filter',\n",
       " 'http://nku.catalog.acalog.com/content.php?catoid=27&catoid=27&navoid=4059&filter%5Bitem_type%5D=3&filter%5Bonly_active%5D=1&filter%5B3%5D=1&filter%5Bcpage%5D=22#acalog_template_course_filter',\n",
       " 'http://nku.catalog.acalog.com/content.php?catoid=27&catoid=27&navoid=4059&filter%5Bitem_type%5D=3&filter%5Bonly_active%5D=1&filter%5B3%5D=1&filter%5Bcpage%5D=23#acalog_template_course_filter',\n",
       " 'http://nku.catalog.acalog.com/content.php?catoid=27&catoid=27&navoid=4059&filter%5Bitem_type%5D=3&filter%5Bonly_active%5D=1&filter%5B3%5D=1&filter%5Bcpage%5D=24#acalog_template_course_filter',\n",
       " 'http://nku.catalog.acalog.com/content.php?catoid=27&catoid=27&navoid=4059&filter%5Bitem_type%5D=3&filter%5Bonly_active%5D=1&filter%5B3%5D=1&filter%5Bcpage%5D=25#acalog_template_course_filter',\n",
       " 'http://nku.catalog.acalog.com/content.php?catoid=27&catoid=27&navoid=4059&filter%5Bitem_type%5D=3&filter%5Bonly_active%5D=1&filter%5B3%5D=1&filter%5Bcpage%5D=26#acalog_template_course_filter',\n",
       " 'http://nku.catalog.acalog.com/content.php?catoid=27&catoid=27&navoid=4059&filter%5Bitem_type%5D=3&filter%5Bonly_active%5D=1&filter%5B3%5D=1&filter%5Bcpage%5D=27#acalog_template_course_filter',\n",
       " 'http://nku.catalog.acalog.com/content.php?catoid=27&catoid=27&navoid=4059&filter%5Bitem_type%5D=3&filter%5Bonly_active%5D=1&filter%5B3%5D=1&filter%5Bcpage%5D=28#acalog_template_course_filter']"
      ]
     },
     "execution_count": 5,
     "metadata": {},
     "output_type": "execute_result"
    }
   ],
   "source": [
    "list_of_pages = []\n",
    "for i in range(1, 29):\n",
    "    url = base_url + str(i) + after_url\n",
    "    list_of_pages.append(url)\n",
    "list_of_pages"
   ]
  },
  {
   "cell_type": "code",
   "execution_count": 15,
   "id": "f1d865dc",
   "metadata": {},
   "outputs": [],
   "source": [
    "# Set up Chrome options\n",
    "options = Options()\n",
    "options.headless = True  # Run in headless mode"
   ]
  },
  {
   "cell_type": "code",
   "execution_count": 16,
   "id": "e0f99b1b",
   "metadata": {},
   "outputs": [],
   "source": [
    "chrome_driver_path = r\"chromedriver.exe\""
   ]
  },
  {
   "cell_type": "code",
   "execution_count": 17,
   "id": "cc01b3a8",
   "metadata": {},
   "outputs": [
    {
     "data": {
      "text/plain": [
       "<selenium.webdriver.chrome.service.Service at 0x279a03cd550>"
      ]
     },
     "execution_count": 17,
     "metadata": {},
     "output_type": "execute_result"
    }
   ],
   "source": [
    "service = Service(chrome_driver_path)\n",
    "service"
   ]
  },
  {
   "cell_type": "code",
   "execution_count": 18,
   "id": "f7b60abb",
   "metadata": {},
   "outputs": [],
   "source": [
    "#now getting the html files for all the pages."
   ]
  },
  {
   "cell_type": "code",
   "execution_count": 19,
   "id": "72b97328",
   "metadata": {},
   "outputs": [],
   "source": [
    "def get_links(html_content):\n",
    "    soup = BeautifulSoup(html_content, 'html.parser')\n",
    "    tables = soup.find_all('table', class_ = \"table_default\")\n",
    "    last_table = tables[-1]  # Get the last table\n",
    "    rows = last_table.find_all('tr')\n",
    "    with open('course_urls.txt', 'a') as file:   \n",
    "        for row in rows:\n",
    "            # Find all 'td' tags in the row\n",
    "            cells = row.find_all('td')\n",
    "            for cell in cells:\n",
    "                a_tag = cell.find('a')\n",
    "                if a_tag and a_tag.has_attr('href'):\n",
    "                    href = a_tag['href']\n",
    "                    full_url = f\"http://nku.catalog.acalog.com/{href}\"\n",
    "                    file.write(full_url + '\\n')"
   ]
  },
  {
   "cell_type": "code",
   "execution_count": null,
   "id": "3fd674a2",
   "metadata": {},
   "outputs": [
    {
     "name": "stdout",
     "output_type": "stream",
     "text": [
      "Completed Cycle: 1\n",
      "Completed Cycle: 2\n",
      "Completed Cycle: 3\n",
      "Completed Cycle: 4\n",
      "Completed Cycle: 5\n",
      "Completed Cycle: 6\n",
      "Completed Cycle: 7\n",
      "Completed Cycle: 8\n",
      "Completed Cycle: 9\n",
      "Completed Cycle: 10\n",
      "Completed Cycle: 11\n",
      "Completed Cycle: 12\n",
      "Completed Cycle: 13\n",
      "Completed Cycle: 14\n",
      "Completed Cycle: 15\n",
      "Completed Cycle: 16\n",
      "Completed Cycle: 17\n",
      "Completed Cycle: 18\n",
      "Completed Cycle: 19\n",
      "Completed Cycle: 20\n",
      "Completed Cycle: 21\n"
     ]
    }
   ],
   "source": [
    "driver = webdriver.Chrome(service=service, options=options)\n",
    "i = 0\n",
    "for url in list_of_pages:\n",
    "    driver.get(url)\n",
    "    html_content = driver.page_source\n",
    "    get_links(html_content)\n",
    "    i += 1\n",
    "    print(\"Completed Cycle:\", i )\n",
    "    time.sleep(6)\n",
    "# Close the driver once done\n",
    "driver.quit()"
   ]
  },
  {
   "cell_type": "code",
   "execution_count": null,
   "id": "3a4a15d2",
   "metadata": {},
   "outputs": [],
   "source": []
  },
  {
   "cell_type": "code",
   "execution_count": null,
   "id": "855833a2",
   "metadata": {},
   "outputs": [],
   "source": []
  },
  {
   "cell_type": "code",
   "execution_count": null,
   "id": "6a7e412a",
   "metadata": {},
   "outputs": [],
   "source": []
  }
 ],
 "metadata": {
  "kernelspec": {
   "display_name": "Python 3 (ipykernel)",
   "language": "python",
   "name": "python3"
  },
  "language_info": {
   "codemirror_mode": {
    "name": "ipython",
    "version": 3
   },
   "file_extension": ".py",
   "mimetype": "text/x-python",
   "name": "python",
   "nbconvert_exporter": "python",
   "pygments_lexer": "ipython3",
   "version": "3.11.4"
  }
 },
 "nbformat": 4,
 "nbformat_minor": 5
}

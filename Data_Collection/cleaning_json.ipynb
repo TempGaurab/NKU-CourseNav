{
 "cells": [
  {
   "cell_type": "code",
   "execution_count": 1,
   "id": "12d93175-d2e5-4826-a123-03593e15b936",
   "metadata": {},
   "outputs": [],
   "source": [
    "import json"
   ]
  },
  {
   "cell_type": "code",
   "execution_count": 4,
   "id": "0d310936-36ae-436c-b8c1-9080a39d99e1",
   "metadata": {},
   "outputs": [
    {
     "ename": "FileNotFoundError",
     "evalue": "[Errno 2] No such file or directory: 'Data_Collection\\\\courses_sample.json'",
     "output_type": "error",
     "traceback": [
      "\u001b[1;31m---------------------------------------------------------------------------\u001b[0m",
      "\u001b[1;31mFileNotFoundError\u001b[0m                         Traceback (most recent call last)",
      "Cell \u001b[1;32mIn[4], line 3\u001b[0m\n\u001b[0;32m      1\u001b[0m \u001b[38;5;28;01mimport\u001b[39;00m \u001b[38;5;21;01mjson\u001b[39;00m\n\u001b[1;32m----> 3\u001b[0m \u001b[38;5;28;01mwith\u001b[39;00m \u001b[38;5;28;43mopen\u001b[39;49m\u001b[43m(\u001b[49m\u001b[38;5;124;43m'\u001b[39;49m\u001b[38;5;124;43mData_Collection\u001b[39;49m\u001b[38;5;124;43m\\\u001b[39;49m\u001b[38;5;124;43mcourses_sample.json\u001b[39;49m\u001b[38;5;124;43m'\u001b[39;49m\u001b[43m,\u001b[49m\u001b[43m \u001b[49m\u001b[38;5;124;43m'\u001b[39;49m\u001b[38;5;124;43mr\u001b[39;49m\u001b[38;5;124;43m'\u001b[39;49m\u001b[43m)\u001b[49m \u001b[38;5;28;01mas\u001b[39;00m json_file:\n\u001b[0;32m      4\u001b[0m     data \u001b[38;5;241m=\u001b[39m json\u001b[38;5;241m.\u001b[39mload(json_file)\n\u001b[0;32m      5\u001b[0m \u001b[38;5;66;03m#data will hold the entire json file\u001b[39;00m\n",
      "File \u001b[1;32mc:\\Users\\gauur\\AppData\\Local\\Programs\\Python\\Python311\\Lib\\site-packages\\IPython\\core\\interactiveshell.py:284\u001b[0m, in \u001b[0;36m_modified_open\u001b[1;34m(file, *args, **kwargs)\u001b[0m\n\u001b[0;32m    277\u001b[0m \u001b[38;5;28;01mif\u001b[39;00m file \u001b[38;5;129;01min\u001b[39;00m {\u001b[38;5;241m0\u001b[39m, \u001b[38;5;241m1\u001b[39m, \u001b[38;5;241m2\u001b[39m}:\n\u001b[0;32m    278\u001b[0m     \u001b[38;5;28;01mraise\u001b[39;00m \u001b[38;5;167;01mValueError\u001b[39;00m(\n\u001b[0;32m    279\u001b[0m         \u001b[38;5;124mf\u001b[39m\u001b[38;5;124m\"\u001b[39m\u001b[38;5;124mIPython won\u001b[39m\u001b[38;5;124m'\u001b[39m\u001b[38;5;124mt let you open fd=\u001b[39m\u001b[38;5;132;01m{\u001b[39;00mfile\u001b[38;5;132;01m}\u001b[39;00m\u001b[38;5;124m by default \u001b[39m\u001b[38;5;124m\"\u001b[39m\n\u001b[0;32m    280\u001b[0m         \u001b[38;5;124m\"\u001b[39m\u001b[38;5;124mas it is likely to crash IPython. If you know what you are doing, \u001b[39m\u001b[38;5;124m\"\u001b[39m\n\u001b[0;32m    281\u001b[0m         \u001b[38;5;124m\"\u001b[39m\u001b[38;5;124myou can use builtins\u001b[39m\u001b[38;5;124m'\u001b[39m\u001b[38;5;124m open.\u001b[39m\u001b[38;5;124m\"\u001b[39m\n\u001b[0;32m    282\u001b[0m     )\n\u001b[1;32m--> 284\u001b[0m \u001b[38;5;28;01mreturn\u001b[39;00m \u001b[43mio_open\u001b[49m\u001b[43m(\u001b[49m\u001b[43mfile\u001b[49m\u001b[43m,\u001b[49m\u001b[43m \u001b[49m\u001b[38;5;241;43m*\u001b[39;49m\u001b[43margs\u001b[49m\u001b[43m,\u001b[49m\u001b[43m \u001b[49m\u001b[38;5;241;43m*\u001b[39;49m\u001b[38;5;241;43m*\u001b[39;49m\u001b[43mkwargs\u001b[49m\u001b[43m)\u001b[49m\n",
      "\u001b[1;31mFileNotFoundError\u001b[0m: [Errno 2] No such file or directory: 'Data_Collection\\\\courses_sample.json'"
     ]
    }
   ],
   "source": [
    "import json\n",
    "\n",
    "with open('Data_Collection\\courses_sample.json', 'r') as json_file:\n",
    "    data = json.load(json_file)\n",
    "#data will hold the entire json file\n",
    "data\n"
   ]
  },
  {
   "cell_type": "code",
   "execution_count": 3,
   "id": "a3c410b3-54ae-4374-a315-73c5675c7901",
   "metadata": {},
   "outputs": [],
   "source": [
    "unwanted_entries = {\n",
    "    'Back to Top', \n",
    "    'Print-Friendly Page (opens a new window)', \n",
    "    'Add to Portfolio (opens a new window)', \n",
    "    'catalogs', \n",
    "    'Print-Friendly Page (opens a new window)',\n",
    "    'Modern Campus Catalog™'\n",
    "}"
   ]
  },
  {
   "cell_type": "code",
   "execution_count": 4,
   "id": "a7bf9a38-53e5-49e9-bb3d-d592616de1c8",
   "metadata": {},
   "outputs": [
    {
     "name": "stdout",
     "output_type": "stream",
     "text": [
      "['DFX 307', 'TAR 346', 'NRS 365', 'DFX 320', 'MUSM 212', 'MAT 129', 'RAD 396', 'TAR 268', 'NRS 220L', 'PSY 333', 'DAN 325', 'RTT 220', 'ARTO 310', 'MUSM 273', 'NEU 301L', 'RAD 214L', 'MAT 119', 'PHY 222', 'TAR 325', 'MUSM 374', 'PHY 300', 'ECO 200', 'ART 299', 'NEU 302L', 'RSP 201', 'TAR 262', 'NRS 450P', 'ARTP 330', 'ENG 102', 'MUS 135', 'PSY 211', 'NRS 255', 'MUSM 104', 'EDU 300', 'RAD 208L', 'RTT 320', 'SPI 201', 'STA 316', 'STA 340', 'RTT 296', 'TAR 329', 'RDG 110', 'TAR 114', 'ARTC 341', 'ARTD 210', 'DAN 224', 'CHE 115', 'MUSM 274', 'PAD 519', 'ARTH 321', 'PSY 210R', 'MUSA 296', 'PSY 100', 'NRS 339L', 'ARTV 425', 'PSY 311', 'ARTV 317', 'MUSM 380', 'PHY 220', 'NRS 360', 'PRE 275', 'ARTV 325', 'STA 205R', 'ARTM 450', 'RTT 486', 'EDU 104', 'MUSM 134', 'ARTV 217', 'DFX 330', 'DAN 120', 'ART 135', 'BIO 151', 'PHY 211', 'MAT 227', 'RSP 396', 'SOC 101', 'STA 314', 'PSC 101', 'ARTR 272', 'JUS 101', 'RAD 209L', 'DAN 222', 'BIO 202L', 'MUSM 344', 'BIO 291W', 'RTT 396', 'NRS 220', 'ARTA 210', 'SPI 101', 'DAN 320', 'TAR 104', 'ART 297', 'ARTO 312', 'ARTV 417', 'PHY 213', 'BIO 209L', 'ENG 104', 'STA 205', 'RAD 208', 'NEU 302', 'MUSA 120', 'MUSM 334', 'RAD 340', 'MUSM 312', 'TAR 210', 'TAR 340', 'NRS 415P', 'RAD 486', 'NRS 215', 'SPB 305', 'NRS 215P', 'ARTC 340', 'MUSM 383', 'RSP 296', 'ENG 101R', 'MUSM 124', 'MUSM 373', 'NRS 460P', 'DAN 221', 'ARTH 101', 'RUS 201', 'MUSM 112', 'SPI 202', 'PSY 212', 'PRE 376', 'TAR 118', 'PHY 305', 'NRS 330P', 'ENG 101', 'PSY 338', 'SPI 102', 'DAN 324', 'ARTO 410', 'ARTV 201', 'ARTV 315', 'RSP 220', 'NRS 465P', 'EMB 100', 'TAR 129', 'RAD 214', 'STA 370', 'PSC 103', 'DFX 309', 'TAR 400', 'MUSM 241', 'BIO 126', 'BIO 208L', 'PHY 361', 'PSY 321', 'CMST 101', 'RTT 376', 'DAN 226', 'DAN 322', 'ART 497', 'ARTD 310', 'MUSM 110', 'RAD 308', 'HIS 103', 'RTT 209', 'ARTV 297', 'RUS 101', 'ARTV 330', 'MAT 325', 'RAD 286', 'HSC 421', 'MUSM 365', 'NRS 450', 'RSP 350', 'BIO 349', 'RUS 102', 'TAR 161', 'RSP 362', 'ARTH 100', 'BIO 209', 'TAR 214', 'TAR 115', 'TAR 390', 'STA 250', 'PSY 340', 'ARTH 304', 'MUSM 211', 'ARTS 262', 'KIN 125', 'RAD 200', 'MUSM 353', 'RSP 310', 'TAR 215', 'MUSM 331', 'PSC 102', 'ARTA 461', 'RSP 286', 'STA 327', 'MUS 148', 'ARTV 283', 'NRS 210L', 'MUSM 222', 'MUSM 271', 'POP 250', 'RTT 200', 'NRS 330', 'CMST 110', 'STA 490', 'TAR 343', 'NRP 470', 'ARTP 230', 'NRS 310P', 'MUSM 232', 'NEU 301', 'PHE 390', 'ARTE 381', 'RAD 209', 'TAR 225', 'CHE 115L', 'ART 130', 'ARTM 350', 'DAN 321', 'MUSM 375', 'BIO 208', 'RTT 221', 'MUSM 309', 'SOC 100', 'MAT 330', 'RAD 376', 'NRS 439L', 'RSP 441', 'DAN 225', 'ARTR 373', 'NRS 350', 'RAD 216', 'RAD 296', 'RTT 321', 'NRS 310', 'NRS 360P', 'TAR 110', 'MUSM 132', 'MKT 205', 'TAR 310', 'PSY 465', 'TAR 160', 'PSC 100', 'TAR 260', 'PHY 224', 'PSY 210', 'RTT 386', 'NRS 415', 'ARTE 380', 'NRS 250', 'MAT 102', 'ARTR 374', 'MUSM 122', 'NRS 425', 'ARTA 412', 'POP 205', 'EDU 311', 'CHE 361', 'NRS 250P', 'RAD 386', 'RSP 201L', 'STA 341', 'TAR 348', 'ARTO 210', 'MAT 101', 'JOU 110', 'ANT 100', 'ARTV 215', 'TAR 370', 'MAT 229', 'RTT 208', 'MUSA 140', 'ECO 201', 'LDR 310', 'MAT 228', 'UNV 150', 'JPN 101', 'MUSA 196', 'MUSM 242', 'RTT 286', 'MUSM 351', 'BIO 202', 'RSP 331', 'ART 140', 'ARTC 240', 'MAT 329', 'TAR 130', 'PSC 110', 'TAR 391', 'TAR 347', 'STA 305', 'TAR 245', 'RTT 340', 'MUSM 111', 'NRS 350P', 'MUSM 381']\n"
     ]
    }
   ],
   "source": [
    "unique_prereqs = set()\n",
    "\n",
    "for course in data:\n",
    "    if course.get('Prerequisites'):  # Check if 'pre_req' is not empty\n",
    "        unique_prereqs.update(course['Prerequisites'])  # Add all prerequisites to the set\n",
    "\n",
    "# Convert the set to a list if you want to work with it as a list\n",
    "unique_prereqs_list = list(unique_prereqs)\n",
    "\n",
    "# Print or use the unique prerequisites\n",
    "print(unique_prereqs_list)\n"
   ]
  },
  {
   "cell_type": "code",
   "execution_count": 5,
   "id": "5414f0b4-235c-4c31-8a09-bf8a732b69ad",
   "metadata": {},
   "outputs": [],
   "source": [
    "for course in data:\n",
    "    # Clean Prerequisites\n",
    "    if course.get('Prerequisites'):  # Check if 'Prerequisites' is not empty\n",
    "        course['Prerequisites'] = [prereq for prereq in course['Prerequisites'] if prereq not in unwanted_entries]\n",
    "    \n",
    "    # Clean Corequisites\n",
    "    if course.get('Corequisites'):  # Check if 'Corequisites' is not empty\n",
    "        course['Corequisites'] = [coreq for coreq in course['Corequisites'] if coreq not in unwanted_entries]\n",
    "    \n",
    "    # Remove Prerequisites if they are the same as Corequisites\n",
    "    if set(course.get('Prerequisites', [])) == set(course.get('Corequisites', [])):\n",
    "        course['Prerequisites'] = []  # Clear prerequisites if they match corequisites\n"
   ]
  },
  {
   "cell_type": "code",
   "execution_count": 6,
   "id": "660253bc-20a9-420a-8562-7b457ab44d10",
   "metadata": {},
   "outputs": [
    {
     "name": "stdout",
     "output_type": "stream",
     "text": [
      "['DFX 307', 'TAR 346', 'NRS 365', 'DFX 320', 'MUSM 212', 'MAT 129', 'RAD 396', 'TAR 268', 'NRS 220L', 'PSY 333', 'DAN 325', 'RTT 220', 'ARTO 310', 'MUSM 273', 'NEU 301L', 'RAD 214L', 'MAT 119', 'PHY 222', 'TAR 325', 'MUSM 374', 'PHY 300', 'ECO 200', 'ART 299', 'NEU 302L', 'RSP 201', 'TAR 262', 'NRS 450P', 'ARTP 330', 'ENG 102', 'MUS 135', 'PSY 211', 'NRS 255', 'MUSM 104', 'EDU 300', 'RAD 208L', 'RTT 320', 'SPI 201', 'STA 316', 'STA 340', 'RTT 296', 'TAR 329', 'RDG 110', 'TAR 114', 'ARTC 341', 'ARTD 210', 'DAN 224', 'CHE 115', 'MUSM 274', 'PAD 519', 'ARTH 321', 'PSY 210R', 'MUSA 296', 'PSY 100', 'NRS 339L', 'ARTV 425', 'PSY 311', 'ARTV 317', 'MUSM 380', 'PHY 220', 'NRS 360', 'PRE 275', 'ARTV 325', 'STA 205R', 'ARTM 450', 'RTT 486', 'EDU 104', 'MUSM 134', 'ARTV 217', 'DFX 330', 'DAN 120', 'ART 135', 'BIO 151', 'PHY 211', 'MAT 227', 'RSP 396', 'SOC 101', 'STA 314', 'PSC 101', 'ARTR 272', 'JUS 101', 'RAD 209L', 'DAN 222', 'BIO 202L', 'MUSM 344', 'BIO 291W', 'RTT 396', 'NRS 220', 'ARTA 210', 'SPI 101', 'DAN 320', 'TAR 104', 'ART 297', 'ARTO 312', 'ARTV 417', 'PHY 213', 'BIO 209L', 'ENG 104', 'STA 205', 'RAD 208', 'NEU 302', 'MUSA 120', 'MUSM 334', 'RAD 340', 'MUSM 312', 'TAR 210', 'TAR 340', 'NRS 415P', 'RAD 486', 'NRS 215', 'SPB 305', 'NRS 215P', 'ARTC 340', 'MUSM 383', 'RSP 296', 'ENG 101R', 'MUSM 124', 'MUSM 373', 'NRS 460P', 'DAN 221', 'ARTH 101', 'RUS 201', 'MUSM 112', 'SPI 202', 'PSY 212', 'PRE 376', 'TAR 118', 'PHY 305', 'NRS 330P', 'ENG 101', 'PSY 338', 'SPI 102', 'DAN 324', 'ARTO 410', 'ARTV 201', 'ARTV 315', 'RSP 220', 'NRS 465P', 'EMB 100', 'TAR 129', 'RAD 214', 'STA 370', 'PSC 103', 'DFX 309', 'TAR 400', 'MUSM 241', 'BIO 126', 'BIO 208L', 'PHY 361', 'PSY 321', 'CMST 101', 'RTT 376', 'DAN 226', 'DAN 322', 'ART 497', 'ARTD 310', 'MUSM 110', 'RAD 308', 'HIS 103', 'RTT 209', 'ARTV 297', 'RUS 101', 'ARTV 330', 'MAT 325', 'RAD 286', 'HSC 421', 'MUSM 365', 'NRS 450', 'RSP 350', 'BIO 349', 'RUS 102', 'TAR 161', 'RSP 362', 'ARTH 100', 'BIO 209', 'TAR 214', 'TAR 115', 'TAR 390', 'STA 250', 'PSY 340', 'ARTH 304', 'MUSM 211', 'ARTS 262', 'KIN 125', 'RAD 200', 'MUSM 353', 'RSP 310', 'TAR 215', 'MUSM 331', 'PSC 102', 'ARTA 461', 'RSP 286', 'STA 327', 'MUS 148', 'ARTV 283', 'NRS 210L', 'MUSM 222', 'MUSM 271', 'POP 250', 'RTT 200', 'NRS 330', 'CMST 110', 'STA 490', 'TAR 343', 'NRP 470', 'ARTP 230', 'NRS 310P', 'MUSM 232', 'NEU 301', 'PHE 390', 'ARTE 381', 'RAD 209', 'TAR 225', 'CHE 115L', 'ART 130', 'ARTM 350', 'DAN 321', 'MUSM 375', 'BIO 208', 'RTT 221', 'MUSM 309', 'SOC 100', 'MAT 330', 'RAD 376', 'NRS 439L', 'RSP 441', 'DAN 225', 'ARTR 373', 'NRS 350', 'RAD 216', 'RAD 296', 'RTT 321', 'NRS 310', 'NRS 360P', 'TAR 110', 'MUSM 132', 'MKT 205', 'TAR 310', 'PSY 465', 'TAR 160', 'PSC 100', 'TAR 260', 'PHY 224', 'PSY 210', 'RTT 386', 'NRS 415', 'ARTE 380', 'NRS 250', 'MAT 102', 'ARTR 374', 'MUSM 122', 'NRS 425', 'ARTA 412', 'POP 205', 'EDU 311', 'CHE 361', 'NRS 250P', 'RAD 386', 'RSP 201L', 'STA 341', 'TAR 348', 'ARTO 210', 'MAT 101', 'JOU 110', 'ANT 100', 'ARTV 215', 'TAR 370', 'MAT 229', 'RTT 208', 'MUSA 140', 'ECO 201', 'LDR 310', 'MAT 228', 'UNV 150', 'JPN 101', 'MUSA 196', 'MUSM 242', 'RTT 286', 'MUSM 351', 'BIO 202', 'RSP 331', 'ART 140', 'ARTC 240', 'MAT 329', 'TAR 130', 'PSC 110', 'TAR 391', 'TAR 347', 'STA 305', 'TAR 245', 'RTT 340', 'MUSM 111', 'NRS 350P', 'MUSM 381']\n"
     ]
    }
   ],
   "source": [
    "unique_prereqs = set()\n",
    "\n",
    "for course in data:\n",
    "    if course.get('Prerequisites'):  # Check if 'pre_req' is not empty\n",
    "        unique_prereqs.update(course['Prerequisites'])  # Add all prerequisites to the set\n",
    "\n",
    "# Convert the set to a list if you want to work with it as a list\n",
    "unique_prereqs_list = list(unique_prereqs)\n",
    "\n",
    "# Print or use the unique prerequisites\n",
    "print(unique_prereqs_list)\n"
   ]
  },
  {
   "cell_type": "code",
   "execution_count": 7,
   "id": "c38da61e-9add-4c7a-a4bb-4ae3aa2facfe",
   "metadata": {},
   "outputs": [],
   "source": [
    "import json\n",
    "\n",
    "# Assuming 'data' contains your modified courses\n",
    "with open('/Users/gauurab/Documents/GitHub/NKU-CourseNav/Data_Collection/courses_sample.json', 'w') as json_file:\n",
    "    json.dump(data, json_file, indent=4) "
   ]
  },
  {
   "cell_type": "code",
   "execution_count": null,
   "id": "a31e20b4-119b-4684-9bb9-2b4c6f9d9830",
   "metadata": {},
   "outputs": [],
   "source": []
  }
 ],
 "metadata": {
  "kernelspec": {
   "display_name": "Python 3 (ipykernel)",
   "language": "python",
   "name": "python3"
  },
  "language_info": {
   "codemirror_mode": {
    "name": "ipython",
    "version": 3
   },
   "file_extension": ".py",
   "mimetype": "text/x-python",
   "name": "python",
   "nbconvert_exporter": "python",
   "pygments_lexer": "ipython3",
   "version": "3.11.4"
  }
 },
 "nbformat": 4,
 "nbformat_minor": 5
}

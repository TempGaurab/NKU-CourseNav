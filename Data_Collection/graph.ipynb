{
 "cells": [
  {
   "cell_type": "code",
   "execution_count": 10,
   "id": "fb881e66",
   "metadata": {},
   "outputs": [],
   "source": [
    "data = {'RSP 331': ['RSP 310'], 'RSP 310': ['RSP 220'], 'RSP 220': ['RSP 201', 'RSP 201L', 'BIO 209L', 'BIO 209'], 'RSP 201': ['RSP 286', 'RSP 201L'], 'RSP 286': []}"
   ]
  },
  {
   "cell_type": "code",
   "execution_count": 11,
   "id": "6e6ffc1c",
   "metadata": {},
   "outputs": [
    {
     "data": {
      "text/plain": [
       "{'RSP 331': ['RSP 310'],\n",
       " 'RSP 310': ['RSP 220'],\n",
       " 'RSP 220': ['RSP 201', 'RSP 201L', 'BIO 209L', 'BIO 209'],\n",
       " 'RSP 201': ['RSP 286', 'RSP 201L'],\n",
       " 'RSP 286': []}"
      ]
     },
     "execution_count": 11,
     "metadata": {},
     "output_type": "execute_result"
    }
   ],
   "source": [
    "data"
   ]
  },
  {
   "cell_type": "code",
   "execution_count": 12,
   "id": "03f1e9a2",
   "metadata": {},
   "outputs": [],
   "source": [
    "import graphviz"
   ]
  },
  {
   "cell_type": "code",
   "execution_count": 15,
   "id": "3111ae34",
   "metadata": {},
   "outputs": [],
   "source": [
    "class Node:\n",
    "    def __init__(self, course):\n",
    "        self.course = course\n",
    "        self.left = None\n",
    "        self.right = None\n",
    "\n",
    "def build_tree(prerequisites):\n",
    "    def add_course(root, course):\n",
    "        if root is None:\n",
    "            return Node(course)\n",
    "        if course < root.course:\n",
    "            root.left = add_course(root.left, course)\n",
    "        else:\n",
    "            root.right = add_course(root.right, course)\n",
    "        return root\n",
    "\n",
    "    root = None\n",
    "    for course in prerequisites:\n",
    "        root = add_course(root, course)\n",
    "    return root\n",
    "\n",
    "def print_tree(node, level=0, prefix=\"Root: \"):\n",
    "    if node is not None:\n",
    "        print(\" \" * (level * 4) + prefix + node.course)\n",
    "        if node.left or node.right:\n",
    "            print(\" \" * (level * 4) + \"    |\")\n",
    "        if node.left:\n",
    "            print_tree(node.left, level + 1, \"L-- \")\n",
    "        if node.right:\n",
    "            print_tree(node.right, level + 1, \"R-- \")\n",
    "\n",
    "def print_prerequisites(prerequisites):\n",
    "    for course, prereqs in prerequisites.items():\n",
    "        if prereqs:\n",
    "            print(f\"{course} requires: {', '.join(prereqs)}\")"
   ]
  },
  {
   "cell_type": "code",
   "execution_count": 16,
   "id": "fc09529a",
   "metadata": {},
   "outputs": [],
   "source": [
    "prerequisites = {\n",
    "    'SOC 425': ['SOC 101', 'PSC 100', 'SOC 100'],\n",
    "    'SOC 100': [],\n",
    "    'SOC 101': [],\n",
    "    'PSC 100': []\n",
    "}"
   ]
  },
  {
   "cell_type": "code",
   "execution_count": 17,
   "id": "aa98f7e1",
   "metadata": {},
   "outputs": [
    {
     "name": "stdout",
     "output_type": "stream",
     "text": [
      "Course Structure:\n",
      "Root: SOC 425\n",
      "    |\n",
      "    L-- SOC 100\n",
      "        |\n",
      "        L-- PSC 100\n",
      "        R-- SOC 101\n",
      "\n",
      "Prerequisites:\n",
      "SOC 425 requires: SOC 101, PSC 100, SOC 100\n"
     ]
    }
   ],
   "source": [
    "root = build_tree(prerequisites)\n",
    "print(\"Course Structure:\")\n",
    "print_tree(root)\n",
    "print(\"\\nPrerequisites:\")\n",
    "print_prerequisites(prerequisites)"
   ]
  },
  {
   "cell_type": "code",
   "execution_count": null,
   "id": "cd0aee25",
   "metadata": {},
   "outputs": [],
   "source": []
  }
 ],
 "metadata": {
  "kernelspec": {
   "display_name": "Python 3 (ipykernel)",
   "language": "python",
   "name": "python3"
  },
  "language_info": {
   "codemirror_mode": {
    "name": "ipython",
    "version": 3
   },
   "file_extension": ".py",
   "mimetype": "text/x-python",
   "name": "python",
   "nbconvert_exporter": "python",
   "pygments_lexer": "ipython3",
   "version": "3.11.4"
  }
 },
 "nbformat": 4,
 "nbformat_minor": 5
}

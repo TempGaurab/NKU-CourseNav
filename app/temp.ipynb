{
 "cells": [
  {
   "cell_type": "code",
   "execution_count": null,
   "id": "0fab09bf-e6e1-4d9e-af82-9ed2cf9f32b6",
   "metadata": {},
   "outputs": [],
   "source": [
    "import json\n",
    "\n",
    "with open('/Users/gauurab/Documents/GitHub/NKU-CourseNav/Data_Collection/courses_sample.json', 'r') as json_file:\n",
    "    data = json.load(json_file)\n",
    "#data will hold the entire json file\n",
    "data\n"
   ]
  },
  {
   "cell_type": "code",
   "execution_count": null,
   "id": "83518cae-4fdc-450c-8f14-72888c43eca8",
   "metadata": {},
   "outputs": [],
   "source": [
    "filtered_data = [course for course in data if course['Course_Code'] == 'ARTD 210']\n",
    "filtered_data"
   ]
  },
  {
   "cell_type": "code",
   "execution_count": null,
   "id": "920d1e35-0b4e-4b15-8831-a9a523e3dc25",
   "metadata": {},
   "outputs": [],
   "source": [
    "def get_prerequisites(course, data, visited=None, depth=0, max_depth=5):\n",
    "    if visited is None:\n",
    "        visited = set()\n",
    "\n",
    "    course_code = course['Course_Code']\n",
    "    if course_code in visited or depth >= max_depth:\n",
    "        return {'Course_Code': course_code, 'Prerequisites': []}\n",
    "\n",
    "    visited.add(course_code)\n",
    "    prerequisites = course.get('Prerequisites', [])\n",
    "    prereq_details = []\n",
    "\n",
    "    for each_entry in prerequisites:\n",
    "        for course_data in data:\n",
    "            if course_data['Course_Code'] == each_entry:\n",
    "                nested_prereqs = get_prerequisites(course_data, data, visited.copy(), depth + 1, max_depth)\n",
    "                prereq_details.append(nested_prereqs)\n",
    "                break\n",
    "\n",
    "    return {\n",
    "        'Course_Code': course_code,\n",
    "        'Prerequisites': prerequisites,\n",
    "        'Nested_Prerequisites': prereq_details if prereq_details else None\n",
    "    }"
   ]
  },
  {
   "cell_type": "code",
   "execution_count": null,
   "id": "68048bae-a362-4929-8ad2-248bca070aaa",
   "metadata": {},
   "outputs": [],
   "source": [
    "def main(course_title,data):\n",
    "    course_title = course_title.upper() \n",
    "    course_title = course_title.strip()\n",
    "    for course in data:  # Iterate over each course in the list\n",
    "        if 'Course_Code' in course and course['Course_Code'] is not None:\n",
    "            if course_title in course['Course_Code'].upper():  \n",
    "                #more code now\n",
    "                prerequisites = get_prerequisites(course,data)\n",
    "                return prerequisites\n",
    "    return False #this false is if the course in the system "
   ]
  },
  {
   "cell_type": "code",
   "execution_count": null,
   "id": "5eaa6683-077b-4ec2-857b-409e8bd9952c",
   "metadata": {},
   "outputs": [],
   "source": [
    "main('ARTE 382',data)"
   ]
  },
  {
   "cell_type": "code",
   "execution_count": null,
   "id": "97719388-00e8-4eb2-bf11-c5ae3c1d56ab",
   "metadata": {},
   "outputs": [],
   "source": [
    "def format_prerequisites(nested_prereqs):\n",
    "    result = {}\n",
    "    \n",
    "    def traverse(course_info):\n",
    "        course_code = course_info['Course_Code']\n",
    "        prerequisites = course_info['Prerequisites']\n",
    "        \n",
    "        # Add the course and its prerequisites to the result\n",
    "        if course_code not in result:\n",
    "            result[course_code] = []\n",
    "        \n",
    "        # Include immediate prerequisites\n",
    "        result[course_code].extend(prerequisites)\n",
    "        \n",
    "        # Traverse nested prerequisites if they exist\n",
    "        nested_prereqs = course_info.get('Nested_Prerequisites')\n",
    "        if nested_prereqs:\n",
    "            for prereq in nested_prereqs:\n",
    "                traverse(prereq)\n",
    "\n",
    "    traverse(nested_prereqs)\n",
    "    return result"
   ]
  },
  {
   "cell_type": "code",
   "execution_count": null,
   "id": "340b58b6-9c41-44ae-bd0b-17137a9b37d5",
   "metadata": {},
   "outputs": [],
   "source": [
    "formatted_output = format_prerequisites(main('ARTE 382',data))\n",
    "formatted_output"
   ]
  },
  {
   "cell_type": "code",
   "execution_count": null,
   "id": "04be4397-c085-498c-91c1-de64628d4fb8",
   "metadata": {},
   "outputs": [],
   "source": []
  }
 ],
 "metadata": {
  "kernelspec": {
   "display_name": "Python 3 (ipykernel)",
   "language": "python",
   "name": "python3"
  },
  "language_info": {
   "codemirror_mode": {
    "name": "ipython",
    "version": 3
   },
   "file_extension": ".py",
   "mimetype": "text/x-python",
   "name": "python",
   "nbconvert_exporter": "python",
   "pygments_lexer": "ipython3",
   "version": "3.12.5"
  }
 },
 "nbformat": 4,
 "nbformat_minor": 5
}
